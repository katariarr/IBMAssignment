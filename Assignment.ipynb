{
  "metadata": {
    "language_info": {
      "codemirror_mode": {
        "name": "python",
        "version": 3
      },
      "file_extension": ".py",
      "mimetype": "text/x-python",
      "name": "python",
      "nbconvert_exporter": "python",
      "pygments_lexer": "ipython3",
      "version": "3.8"
    },
    "kernelspec": {
      "name": "python",
      "display_name": "Pyolite",
      "language": "python"
    }
  },
  "nbformat_minor": 4,
  "nbformat": 4,
  "cells": [
    {
      "cell_type": "markdown",
      "source": "# My Jupyter Notebook on IBM Watson Studio",
      "metadata": {}
    },
    {
      "cell_type": "markdown",
      "source": "**Aakash Kataria**  \nStudent",
      "metadata": {}
    },
    {
      "cell_type": "markdown",
      "source": "*I am interested in Data Science because I like the idea of telling stories using data and also the presentation feature in Jupyter, lol*",
      "metadata": {}
    },
    {
      "cell_type": "markdown",
      "source": "### My code will simply multiply 365 with 365",
      "metadata": {}
    },
    {
      "cell_type": "code",
      "source": "365 * 365",
      "metadata": {
        "trusted": true
      },
      "execution_count": 4,
      "outputs": [
        {
          "execution_count": 4,
          "output_type": "execute_result",
          "data": {
            "text/plain": "133225"
          },
          "metadata": {}
        }
      ]
    },
    {
      "cell_type": "markdown",
      "source": "The following is a table:\n\n| tell | me | why | \n| ---- | -- | --- |\n| tell | me | why |\n  \n~~This is strikethrough text.~~\n\n<a href = \"https://www.rd.com/article/funny-dog-videos-to-watch/\"> The funny dog videos you need - a link <a/>\n    \nAdjectives for how you liked the dog video -   \n* Amazing  \n* Awesome   \n* Fantastic",
      "metadata": {}
    },
    {
      "cell_type": "code",
      "source": "",
      "metadata": {},
      "execution_count": null,
      "outputs": []
    }
  ]
}